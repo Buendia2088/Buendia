{
 "cells": [
  {
   "cell_type": "markdown",
   "metadata": {},
   "source": [
    "# Notebook 3: Regression\n",
    "\n",
    "## Introduction\n",
    "\n",
    "In this notebook we will look at Simple Linear Regression, Multiple Linear Regression and Polynomial Regression as part of which we will touch upon the concepts of Under/Overfitting and Regularisation. For the most part we will either use the Normal Equations in our analysis. However the normal equations become unwieldy with large amounts of data, so at the end we will touch upon numerical optimisation and Gradient Descent in particular.\n",
    "\n",
    "On the coding side we will use Python, Numpy, Pandas and Scikit-Learn. And we will code up some of the simpler algorithms and then compare the results with those of Scikit-Learn's implementation.\n",
    "\n",
    "There are many advanced forms of regression that we won't touch upon including those using Kernels, Gaussian Processes, Neural Nets, Decision Trees, Boostong etc. However, the idea here is to give a thorough feel for key concepts, and to introduce you to some useful tools for manipulating them.\n",
    "\n",
    "Some of the code in this notebook originally comes from code accompanying 'Hands-On Machine Learning with Scikit-Learn & Tensorflow', by A. Geron, and some from this tutorial on Ridge Regression and the Lasso in Python:\n",
    "https://www.analyticsvidhya.com/blog/2016/01/complete-tutorial-ridge-lasso-regression-python/"
   ]
  },
  {
   "cell_type": "markdown",
   "metadata": {},
   "source": [
    "## Guidelines\n",
    "\n",
    "- The structure of the code is given to you and you will need to fill in the parts corresponding to each question. \n",
    "- Do not modify/erase other parts of the code if you have not been given specific instructions to do so.\n",
    "- When you are asked to insert code, do so between the areas which begin:\n",
    "  \n",
    "  `##########################################################`\n",
    "  \n",
    "  `# TO_DO`\n",
    "  \n",
    "  `# [your code here]`\n",
    "   \n",
    "   And which end:\n",
    "   \n",
    "  `# /TO_DO\n",
    "   ##########################################################`\n",
    "\n",
    "\n",
    "- When you are asked to comment on the results you should give clear and comprehensible explanations. Write the comments in a 'Code Cell' with a sign `#` at the beginning of each row, and in the areas which begin:\n",
    "\n",
    "  `# [INSERT YOUR ANSWER HERE]`"
   ]
  },
  {
   "cell_type": "markdown",
   "metadata": {},
   "source": [
    "## Imports\n",
    "\n",
    "Please do not change the cell below, you will see a number of imports. All these packages are relevant for the assignment and it is important that you get used to them. You can find more information about them in their respective documentation. As usual Numpy, Pandas, and Scikit-Learn will be used heavily."
   ]
  },
  {
   "cell_type": "code",
   "execution_count": 2,
   "metadata": {},
   "outputs": [],
   "source": [
    "#Standard Python libraries for data and visualisation\n",
    "import numpy as np\n",
    "import pandas as pd\n",
    "import matplotlib.pyplot as plt\n",
    "\n",
    "#Import models\n",
    "from sklearn.linear_model import LinearRegression\n",
    "from sklearn.linear_model import Ridge\n",
    "from sklearn.linear_model import Lasso\n",
    "\n",
    "#Import error metric\n",
    "from sklearn.metrics import mean_squared_error\n",
    "\n",
    "#Import data munging tools\n",
    "from sklearn.model_selection import train_test_split\n",
    "from sklearn.preprocessing import StandardScaler\n",
    "from sklearn.preprocessing import PolynomialFeatures\n",
    "\n",
    "#Display charts in the notebook\n",
    "%matplotlib inline"
   ]
  },
  {
   "cell_type": "markdown",
   "metadata": {},
   "source": [
    "## Create training data\n",
    "\n",
    "We will begin by creating some linear data with Gaussian noise added:"
   ]
  },
  {
   "cell_type": "code",
   "execution_count": 3,
   "metadata": {},
   "outputs": [
    {
     "data": {
      "image/png": "[encoded data removed]",
      "text/plain": [
       "<Figure size 640x480 with 1 Axes>"
      ]
     },
     "metadata": {},
     "output_type": "display_data"
    }
   ],
   "source": [
    "#We will create some one dimensional data with a bit of noise\n",
    "num_points = 50\n",
    "# Return evenly spaced numbers over a specified interval (reshaped to a column vector).\n",
    "X = np.linspace(0,100,num_points).reshape(num_points,1) \n",
    "# Multiplication of the random values by 25 increases the weight of these random numbers (they are small compared to the X values)\n",
    "y = (4 + 3 * X) + 25*np.random.randn(num_points, 1)\n",
    "\n",
    "#Plot the data\n",
    "plt.plot(X, y, 'b.')\n",
    "plt.xlabel(\"$x_1$\", fontsize=18)\n",
    "plt.ylabel(\"$y$\", rotation=0, fontsize=18)\n",
    "plt.title('Training Data')\n",
    "plt.show()"
   ]
  },
  {
   "cell_type": "markdown",
   "metadata": {},
   "source": [
    "## Simple Linear Regression\n",
    "\n",
    "The function below accepts training data in the form of a design matrix, $\\mathbf{X}$ and target data in the form of an output vector, $\\mathbf{y}$ and returns optimal parameters, $\\mathbf{w}$. \n",
    "As in the lectures, $\\mathbf{w}$ characterises the weight vector associated with some linear mapping, $f(\\mathbf{x}) = \\mathbf{w} \\cdot \\mathbf{x}$, which seeks to map inputs to outputs.\n",
    "\n",
    "Notice that in this case we have 50 one-dimensional training points, so $\\mathbf{X}$ will be a numpy array of shape (50,1).  \n",
    "And we have one input attribute, and one bias term, so in this case $\\mathbf{w}$ will be a Numpy array of shape (2,1)."
   ]
  },
  {
   "cell_type": "markdown",
   "metadata": {},
   "source": [
    "### Learn $\\mathbf{w}$ using the Normal Equations:\n",
    "\n",
    "__Task:__  \n",
    "Now, write a function to fit the data and return optimal weight parameters:\n",
    "\n",
    "_Steps:_  \n",
    "a) Prepend a vector of ones onto the training data (to include the bias term)  \n",
    "b) Calculate `w_best` using the Normal Equations.\n",
    "\n",
    "(Try to make the function as general as possible by allowing it to accept higher dimensional inputs in order to save further work when you do Multiple Linear Regression later)."
   ]
  },
  {
   "cell_type": "code",
   "execution_count": 4,
   "metadata": {},
   "outputs": [],
   "source": [
    "def simple_linear_regression(X, y):\n",
    "    ########################################################\n",
    "    # TO_DO\n",
    "    #[your code here]\n",
    "    \n",
    "    X_b = np.c_[np.ones((X.shape[0], 1)), X]\n",
    "    w_best = np.linalg.inv(X_b.T.dot(X_b)).dot(X_b.T).dot(y)\n",
    "    return w_best\n",
    "\n",
    "    # /TO_DO\n",
    "    ########################################################"
   ]
  },
  {
   "cell_type": "markdown",
   "metadata": {},
   "source": [
    "__Task:__  \n",
    "Now, write a function that, given parameters `w` and input test data `X_test`, returns predictions `y_pred`.\n",
    "\n",
    "`X_test` will be of dimension (50,1), and in the case of  Simple Linear Regression, `w` will be of dimension (2,1)."
   ]
  },
  {
   "cell_type": "code",
   "execution_count": 5,
   "metadata": {},
   "outputs": [],
   "source": [
    "def pred(w, X_test):\n",
    "    ########################################################\n",
    "    # TO_DO\n",
    "    #[your code here]\n",
    "    \n",
    "    y_pred = w[0]+np.dot(X_test,w[1:])\n",
    "    return y_pred\n",
    "\n",
    "    # /TO_DO\n",
    "    ########################################################"
   ]
  },
  {
   "cell_type": "markdown",
   "metadata": {},
   "source": [
    "__Task:__  \n",
    "Use your two functions to create predictions given the input data `X`.  \n",
    "Call the variable containing the predictions `ypred`."
   ]
  },
  {
   "cell_type": "code",
   "execution_count": 6,
   "metadata": {},
   "outputs": [],
   "source": [
    "########################################################\n",
    "# TO_DO\n",
    "#[your code here]\n",
    "\n",
    "w_best = simple_linear_regression(X, y)\n",
    "ypred = pred(w_best,X)\n",
    "\n",
    "# /TO_DO\n",
    "########################################################"
   ]
  },
  {
   "cell_type": "markdown",
   "metadata": {},
   "source": [
    "### Learn $\\mathbf{w}$ using Scikit-Learn:\n",
    "\n",
    "__Task:__  \n",
    "1) Create a linear regression model using Scikit-Learn  \n",
    "2) Fit the model using `X` and `y`  \n",
    "3) Predict `y` given the fitted model and `X`. Put this predicition in a variable `y_lr`  \n",
    "4) Calculate Mean Squared Errors for the hand coded and the Scikit-Learn models. Put the results in variables `mse` and `mse_lr`"
   ]
  },
  {
   "cell_type": "code",
   "execution_count": 7,
   "metadata": {},
   "outputs": [],
   "source": [
    "########################################################\n",
    "# TO_DO\n",
    "#[your code here]\n",
    "\n",
    "lr = LinearRegression()\n",
    "lr.fit(X, y)\n",
    "y_lr = lr.predict(X)\n",
    "mse_lr = mean_squared_error(y, y_lr) # y_lr = Scikit model output \n",
    "mse = mean_squared_error(y, ypred) # ypred = hand coded model output from cell above\n",
    "\n",
    "# /TO_DO\n",
    "########################################################"
   ]
  },
  {
   "cell_type": "markdown",
   "metadata": {},
   "source": [
    "### Comparison:\n",
    "\n",
    "If everything has been carried out correctly then when you run the code in the next cell you should see the training data (as blue dots), the line of best fit from your own code, `ypred`, and the best fit from your Scikit-Learn implementation (green '+'s).  \n",
    "The red line should be a good fit to the blue training data and the green '+'s should be an exact match to the red line.  \n",
    "The mean squared errors are also reported and should be very similar."
   ]
  },
  {
   "cell_type": "code",
   "execution_count": 8,
   "metadata": {},
   "outputs": [
    {
     "data": {
      "image/png": "[encoded data removed]",
      "text/plain": [
       "<Figure size 640x480 with 1 Axes>"
      ]
     },
     "metadata": {},
     "output_type": "display_data"
    },
    {
     "name": "stdout",
     "output_type": "stream",
     "text": [
      "MSE - Sci kit 678.066501097896 , MSE - Hand-Coded 678.0665010978961\n"
     ]
    }
   ],
   "source": [
    "# PLEASE DO NOT CHANGE THIS CELL\n",
    "# We wish to plot the variables you created: ypred, y_lr\n",
    "plt.plot(X, y, 'b.')\n",
    "plt.plot(X, ypred, 'r-')\n",
    "plt.plot(X, y_lr, 'g+')\n",
    "plt.xlabel(\"$x_1$\", fontsize=18)\n",
    "plt.ylabel(\"$y$\", rotation=0, fontsize=18)\n",
    "plt.show()\n",
    "print(\"MSE - Sci kit\",mse_lr,\",\",\"MSE - Hand-Coded\",mse)"
   ]
  },
  {
   "cell_type": "markdown",
   "metadata": {},
   "source": [
    "## Multiple Linear Regression\n",
    "\n",
    "We will now examine Multiple Linear Regression, and this time we will go directly through the Scikit-Learn workflow.\n",
    "\n",
    "To avoid data cleaning/ munging etc. we will use the Boston housing data from the last tutorial."
   ]
  },
  {
   "cell_type": "code",
   "execution_count": 9,
   "metadata": {},
   "outputs": [],
   "source": [
    "##PLEASE DO NOT CHANGE THIS CELL: Load the Boston data again\n",
    "data_url = \"http://lib.stat.cmu.edu/datasets/boston\"\n",
    "raw_df = pd.read_csv(data_url, sep=\"\\s+\", skiprows=22, header=None)\n",
    "data = np.hstack([raw_df.values[::2, :], raw_df.values[1::2, :2]])\n",
    "target = raw_df.values[1::2, 2]\n",
    "X_boston = np.hstack([raw_df.values[::2, :], raw_df.values[1::2, :2]])\n",
    "y_boston = raw_df.values[1::2, 2]"
   ]
  },
  {
   "cell_type": "markdown",
   "metadata": {},
   "source": [
    "### Data Processing & Model Training:\n",
    "\n",
    "__Task:__  \n",
    "1) Create a train/test split in the Boston data set.  \n",
    "(_Hint:_ Use `train_test_split()`, choose `test_size=0.2`, and `random_state=42`, and call the variables containing the train(test) inputs `X_train`(`X_test`) and the train(test) targets `y_train`(`y_test`).  \n",
    "2) Linear regression parameter outputs are dependent on the scale of the features. Use `StandardScalar` to fit/transform the training data and to fit the test data. (Consider why we do not also fit on the test data.)  \n",
    "3) Create a linear regression model, fit it, and store predictions for `X_test` in a variable called `y_lr_boston`.  \n",
    "4) How good is your trained model on the test data? Calculate the Mean Squared Error between `y_test` and `y_lr_boston`, and store the result in a variable called `mse_lr_boston`."
   ]
  },
  {
   "cell_type": "code",
   "execution_count": 10,
   "metadata": {},
   "outputs": [],
   "source": [
    "########################################################\n",
    "# TO_DO\n",
    "#[your code here]\n",
    "\n",
    "# Split\n",
    "# random_state: Controls the shuffling applied to the data before applying the split. \n",
    "X_train, X_test, y_train, y_test = train_test_split(X_boston, y_boston, test_size=0.2, random_state=42)\n",
    "\n",
    "# Standardise\n",
    "# More about feature scaling: \n",
    "# 1.) https://towardsdatascience.com/what-and-why-behind-fit-transform-vs-transform-in-scikit-learn-78f915cf96fe\n",
    "# \"The fit method is calculating the mean and variance of each of the features present in our data. \n",
    "# The transform method is transforming all the features using the respective mean and variance.\"\n",
    "scaler = StandardScaler()\n",
    "X_train = scaler.fit_transform(X_train)\n",
    "X_test = scaler.transform(X_test)\n",
    "\n",
    "# Fit\n",
    "lr_boston = LinearRegression()\n",
    "lr_boston.fit(X_train, y_train)\n",
    "y_lr_boston = lr_boston.predict(X_test)\n",
    "\n",
    "# MSE\n",
    "mse_lr_boston = mean_squared_error(y_test, y_lr_boston)\n",
    "\n",
    "# /TO_DO\n",
    "########################################################"
   ]
  },
  {
   "cell_type": "markdown",
   "metadata": {},
   "source": [
    "__Task:__  \n",
    "Now use your own model as before.\n",
    "\n",
    "(If you had already coded your function to handle multiple dimensions then you have no alterations to make to the Simple Linear Regression function, otherwise you will need to generalise a little for higher dimensional data).\n",
    "\n",
    "_Steps:_  \n",
    "1) Use the Simple Linear Regression function with training inputs from your standard scalar to fit optimal weight parameters `w_boston`  \n",
    "2) Make your predictions given your parameters and input test data. Store your predictions for `X_test` in a variable called `ypred_boston`  \n",
    "3) Calculate the mean squared errors of your predictions. Store your answer in a variable called `mse_ypred_boston`  "
   ]
  },
  {
   "cell_type": "code",
   "execution_count": 11,
   "metadata": {},
   "outputs": [],
   "source": [
    "########################################################\n",
    "# TO_DO\n",
    "#[your code here]\n",
    "\n",
    "w_boston = simple_linear_regression(X_train, y_train)\n",
    "ypred_boston = pred(w_boston,X_test)\n",
    "mse_ypred_boston = mean_squared_error(y_test, ypred_boston)\n",
    "\n",
    "# /TO_DO\n",
    "########################################################"
   ]
  },
  {
   "cell_type": "markdown",
   "metadata": {},
   "source": [
    "### Comparison:\n",
    "\n",
    "Because we are dealing with multiple dimensions, visualisation is less simple. \n",
    "\n",
    "Below we show our model compared with the Scikit-Learn version: we create a scatter graph against of the `y_test` results. The pattern should be close to identical. \n",
    "\n",
    "We also show the Mean Squared Errors on the test set of the two models: These should be very similar."
   ]
  },
  {
   "cell_type": "code",
   "execution_count": 12,
   "metadata": {},
   "outputs": [
    {
     "name": "stdout",
     "output_type": "stream",
     "text": [
      "MSE-hand coded 24.29111947497351 MSE-Sci-Kit 24.291119474973527\n"
     ]
    }
   ],
   "source": [
    "##PLEASE DO NOT CHANGE THIS CELL\n",
    "\n",
    "fig, axes = plt.subplots(1, 2, sharex=True)\n",
    "axes[0].scatter(ypred_boston,y_test)\n",
    "axes[0].set_title(\"Linear Regression\")\n",
    "axes[1].scatter(y_lr_boston,y_test)\n",
    "axes[1].set_title(\"SKLearn Linear Regression\")\n",
    "\n",
    "\n",
    "print(\"MSE-hand coded\",mse_ypred_boston, \"MSE-Sci-Kit\",mse_lr_boston)"
   ]
  }
 ],
 "metadata": {
  "kernelspec": {
   "display_name": "mlb",
   "language": "python",
   "name": "python3"
  },
  "language_info": {
   "codemirror_mode": {
    "name": "ipython",
    "version": 3
   },
   "file_extension": ".py",
   "mimetype": "text/x-python",
   "name": "python",
   "nbconvert_exporter": "python",
   "pygments_lexer": "ipython3",
   "version": "3.11.13"
  }
 },
 "nbformat": 4,
 "nbformat_minor": 2
}
